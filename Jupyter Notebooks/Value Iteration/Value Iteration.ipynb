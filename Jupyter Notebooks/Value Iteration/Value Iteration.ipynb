{
 "cells": [
  {
   "cell_type": "markdown",
   "id": "2d3fe410",
   "metadata": {},
   "source": [
    "<br>\n",
    "\n",
    "# Value Iteration\n",
    "\n",
    "<br> <div style=\"text-align: justify\"> \n",
    "Policy Iteration is an algorithm that combines *Policy Evaluation* and *Policy Improvement* more efficiently than **Policy Iteration**. In this algorithm, the policy will be updated on each loop with the agrument that maximizes the value's function. This means that on each loop, the policy will be updated and evaluated efficiently. This proves to be converge faster to the optimal policy.\n",
    "</div>\n",
    "\n",
    "$$\n",
    "V_{k+1}(s)=\\max_{a}{\\sum_{s_{t+1},r}{p(s_{t+1},r|s_t,a)[r+\\gamma V_\\pi(s_{t+1})]}}\n",
    "$$\n",
    "\n",
    "The algorithm is initialized just as policy evaluation is. Then on each loop the policy's value will be updated with te value of the decision which maximizes the value. Finally, the algorithm will be stoped once an accuracy threshold $\\theta$, determinig the accuracy of the estimation, has been achieved.\n",
    "\n",
    "A sumary of the algorithm is presented below:\n",
    "    \n",
    "![](VALUE_ITER.JPG)\n",
    "    \n",
    "**Bibliography**\n",
    "\n",
    "Sutton, R. S., & Barto, A. G. (2018). Reinforcement learning: An introduction. MIT press."
   ]
  }
 ],
 "metadata": {
  "kernelspec": {
   "display_name": "Python 3.10.4 64-bit",
   "language": "python",
   "name": "python3"
  },
  "language_info": {
   "codemirror_mode": {
    "name": "ipython",
    "version": 3
   },
   "file_extension": ".py",
   "mimetype": "text/x-python",
   "name": "python",
   "nbconvert_exporter": "python",
   "pygments_lexer": "ipython3",
   "version": "3.10.4"
  },
  "vscode": {
   "interpreter": {
    "hash": "aee8b7b246df8f9039afb4144a1f6fd8d2ca17a180786b69acc140d282b71a49"
   }
  }
 },
 "nbformat": 4,
 "nbformat_minor": 5
}
