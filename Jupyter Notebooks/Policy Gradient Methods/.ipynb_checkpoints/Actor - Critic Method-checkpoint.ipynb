{
 "cells": [
  {
   "cell_type": "markdown",
   "id": "f85fbf90",
   "metadata": {},
   "source": [
    "<br>\n",
    "\n",
    "# Policy Gradient Methods\n",
    "\n",
    "<br> <div style=\"text-align: justify\">\n",
    "There is a different approach to Reinforcement Learning in which the learning process is through a *parameterized* policy, rather than a Value Function. A new component *$\\theta$* $\\in$ &#8477;$^{d'}$ is introduced, this will be the policy's parameter vector. Therefore, the transition probability function $\\pi$ will be noted as $\\pi(a|s_t,\\theta)$, which indicates the probability of making action $a$, on the state $s$, at step $t$, with parameter $\\theta$. The method might as well use a Learned Value Function, then the value function's weight is denoted as *$w$* $\\in$ &#8477;$^{d'}$. \n",
    "</div>\n",
    "\n",
    "# Actor - Critic Method\n",
    "\n",
    "\n",
    "**Bibliography**\n",
    "\n",
    "Sutton, R. S., & Barto, A. G. (2018). Reinforcement learning: An introduction. MIT press."
   ]
  },
  {
   "cell_type": "code",
   "execution_count": null,
   "id": "e3daceb7",
   "metadata": {},
   "outputs": [],
   "source": []
  }
 ],
 "metadata": {
  "kernelspec": {
   "display_name": "Python 3",
   "language": "python",
   "name": "python3"
  },
  "language_info": {
   "codemirror_mode": {
    "name": "ipython",
    "version": 3
   },
   "file_extension": ".py",
   "mimetype": "text/x-python",
   "name": "python",
   "nbconvert_exporter": "python",
   "pygments_lexer": "ipython3",
   "version": "3.8.8"
  }
 },
 "nbformat": 4,
 "nbformat_minor": 5
}
