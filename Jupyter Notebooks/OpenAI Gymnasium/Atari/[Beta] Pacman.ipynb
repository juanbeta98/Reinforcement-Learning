{
 "cells": [
  {
   "cell_type": "code",
   "execution_count": null,
   "metadata": {},
   "outputs": [],
   "source": [
    "import gymnasium as gym\n",
    "import numpy as np\n",
    "import ipywidgets as widgets\n",
    "import sys\n",
    "\n",
    "sys.path.append('../')\n",
    "import support_modules as sm"
   ]
  },
  {
   "cell_type": "markdown",
   "metadata": {},
   "source": [
    "# Pacman\n",
    "\n",
    "## Description\n",
    "\n",
    "<div style=\"text-align: justify\">    \n",
    "A classic arcade game. Move Pac Man around a maze collecting food and avoiding ghosts- unless you eat a Power Pellet, then you can eat the ghosts too!\n",
    "</div>\n",
    "\n",
    "https://gymnasium.farama.org/environments/atari/pacman/"
   ]
  },
  {
   "cell_type": "markdown",
   "metadata": {},
   "source": [
    "# Random policy"
   ]
  },
  {
   "cell_type": "markdown",
   "metadata": {},
   "source": [
    "## Single episode"
   ]
  },
  {
   "cell_type": "code",
   "execution_count": null,
   "metadata": {},
   "outputs": [],
   "source": [
    "env = gym.make('ALE/Pacman-v5', render_mode='rgb_array')\n",
    "state, _ = env.reset()  \n",
    "ep_reward = 0\n",
    "done = False\n",
    "\n",
    "while not done:\n",
    "    action = env.action_space.sample()\n",
    "    state, reward, terminated, truncated, info = env.step(action)\n",
    "    ep_reward += reward\n",
    "    env.render()\n",
    "    \n",
    "    done = sm.evaluate_done(terminated,truncated)\n",
    "\n",
    "env.close()"
   ]
  },
  {
   "cell_type": "markdown",
   "metadata": {},
   "source": [
    "## Exploratory 1000 episodes"
   ]
  },
  {
   "cell_type": "code",
   "execution_count": null,
   "metadata": {},
   "outputs": [],
   "source": [
    "env = gym.make('ALE/Pacman-v5',render_mode='rgb_array')\n",
    "\n",
    "rewards = list()\n",
    "success = list()\n",
    "\n",
    "for episode in range(1000):\n",
    "    state, _ = env.reset()\n",
    "    ep_reward = 0\n",
    "    done = False\n",
    "\n",
    "    while not done:\n",
    "        action = env.action_space.sample()\n",
    "        state, reward, terminated, truncated, info = env.step(action)\n",
    "        ep_reward += reward\n",
    "        \n",
    "        done = sm.evaluate_done(terminated,truncated)\n",
    "    \n",
    "    rewards.append(ep_reward)\n",
    "    success.append(terminated)\n",
    "\n",
    "env.close()\n",
    "print(f'Average reward: {sum(rewards)/len(rewards)}')"
   ]
  },
  {
   "cell_type": "markdown",
   "metadata": {},
   "source": [
    "# [BETA] Deep Q-Learning (DQN)"
   ]
  },
  {
   "cell_type": "code",
   "execution_count": null,
   "metadata": {},
   "outputs": [],
   "source": [
    "import numpy as np\n",
    "import tensorflow as tf\n",
    "from tensorflow.keras import layers, models, optimizers\n",
    "from collections import deque\n",
    "import random\n",
    "\n",
    "class DQNAgent:\n",
    "    def __init__(self, state_shape, action_size, replay_buffer_size=10000, batch_size=32,\n",
    "                 gamma=0.99, epsilon_start=1.0, epsilon_end=0.01, epsilon_decay=0.995,\n",
    "                 learning_rate=0.001, target_update_freq=100):\n",
    "        self.state_shape = state_shape\n",
    "        self.action_size = action_size\n",
    "        self.replay_buffer = deque(maxlen=replay_buffer_size)\n",
    "        self.batch_size = batch_size\n",
    "        self.gamma = gamma\n",
    "        self.epsilon = epsilon_start\n",
    "        self.epsilon_end = epsilon_end\n",
    "        self.epsilon_decay = epsilon_decay\n",
    "        self.learning_rate = learning_rate\n",
    "        self.target_update_freq = target_update_freq\n",
    "\n",
    "        # Create main and target Q-networks\n",
    "        self.q_network = self._build_q_network()\n",
    "        self.target_q_network = self._build_q_network()\n",
    "        self.update_target_network()\n",
    "\n",
    "    def _build_q_network(self):\n",
    "        model = models.Sequential([\n",
    "            layers.Input(shape=self.state_shape),\n",
    "            layers.Conv2D(32, (8, 8), strides=(4, 4), activation='relu'),\n",
    "            layers.Conv2D(64, (4, 4), strides=(2, 2), activation='relu'),\n",
    "            layers.Conv2D(64, (3, 3), activation='relu'),\n",
    "            layers.Flatten(),\n",
    "            layers.Dense(512, activation='relu'),\n",
    "            layers.Dense(self.action_size, activation=None)\n",
    "        ])\n",
    "        model.compile(loss='mse', optimizer=optimizers.Adam(learning_rate=self.learning_rate))\n",
    "        return model\n",
    "\n",
    "    def update_target_network(self):\n",
    "        self.target_q_network.set_weights(self.q_network.get_weights())\n",
    "\n",
    "    def act(self, state):\n",
    "        if np.random.rand() <= self.epsilon:\n",
    "            return np.random.choice(self.action_size)\n",
    "        q_values = self.q_network.predict(state)[0]\n",
    "        return np.argmax(q_values)\n",
    "\n",
    "    def remember(self, state, action, reward, next_state, done):\n",
    "        self.replay_buffer.append((state, action, reward, next_state, done))\n",
    "\n",
    "    def replay(self):\n",
    "        if len(self.replay_buffer) < self.batch_size:\n",
    "            return\n",
    "\n",
    "        batch = random.sample(self.replay_buffer, self.batch_size)\n",
    "        states, targets = [], []\n",
    "        for state, action, reward, next_state, done in batch:\n",
    "            target = reward\n",
    "            if not done:\n",
    "                target = reward + self.gamma * np.amax(self.target_q_network.predict(next_state)[0])\n",
    "            target_f = self.q_network.predict(state)\n",
    "            target_f[0][action] = target\n",
    "            states.append(state[0])\n",
    "            targets.append(target_f[0])\n",
    "        self.q_network.fit(np.array(states), np.array(targets), epochs=1, verbose=0)\n",
    "\n",
    "        if self.epsilon > self.epsilon_end:\n",
    "            self.epsilon *= self.epsilon_decay\n",
    "\n",
    "        if self.target_update_freq > 0 and len(self.replay_buffer) % self.target_update_freq == 0:\n",
    "            self.update_target_network()\n",
    "\n",
    "import numpy as np\n",
    "import cv2\n",
    "\n",
    "def preprocess_screen(screen):\n",
    "    # Convert the screen to grayscale\n",
    "    gray_screen = cv2.cvtColor(screen, cv2.COLOR_RGB2GRAY)\n",
    "    # Resize the screen to the desired input shape\n",
    "    resized_screen = cv2.resize(gray_screen, (84, 84))\n",
    "    # Normalize the pixel values to the range [0, 1]\n",
    "    normalized_screen = resized_screen / 255.0\n",
    "    # Add a batch dimension to the screen\n",
    "    preprocessed_screen = np.expand_dims(normalized_screen, axis=0)\n",
    "    return preprocessed_screen\n"
   ]
  },
  {
   "cell_type": "code",
   "execution_count": null,
   "metadata": {},
   "outputs": [],
   "source": [
    "# Create the CartPole environment\n",
    "env = gym.make('ALE/Pacman-v5', render_mode = 'rgb_array')\n",
    "\n",
    "# Set the number of episodes for training\n",
    "num_episodes = 1000\n",
    "\n",
    "# Initialize the DQN agent\n",
    "agent = DQNAgent(env.observation_space.shape[0], env.action_space.n)\n",
    "\n",
    "# Iterate over episodes\n",
    "for episode in range(num_episodes):\n",
    "    # Reset the environment for each episode\n",
    "    state = env.reset()\n",
    "    done = False\n",
    "    total_reward = 0\n",
    "\n",
    "    # Iterate over time steps within the episode\n",
    "    while not done:\n",
    "        # Get the screen image from the environment\n",
    "        screen = env.render(mode='rgb_array')\n",
    "        # Preprocess the screen image\n",
    "        preprocessed_screen = preprocess_screen(screen)\n",
    "        # Pass the preprocessed screen image to the DQN agent\n",
    "        action = agent.act(preprocessed_screen)\n",
    "\n",
    "\n",
    "        # Choose an action using the DQN agent's policy\n",
    "        action = agent.act(state)\n",
    "\n",
    "        # Take a step in the environment\n",
    "        next_state, reward, done, _ = env.step(action)\n",
    "\n",
    "        # Store the experience (state, action, reward, next_state, done) in the agent's memory\n",
    "        agent.remember(state, action, reward, next_state, done)\n",
    "\n",
    "        # Update the agent's Q-network by sampling experiences from memory\n",
    "        agent.replay()\n",
    "\n",
    "        # Update the current state\n",
    "        state = next_state\n",
    "\n",
    "        # Accumulate the total reward for the episode\n",
    "        total_reward += reward\n",
    "\n",
    "    # Print the total reward achieved in the episode\n",
    "    print(f\"Episode {episode + 1}: Total Reward = {total_reward}\")\n",
    "\n",
    "# Close the environment\n",
    "env.close()\n"
   ]
  },
  {
   "cell_type": "markdown",
   "metadata": {},
   "source": [
    "# Stable Baselines 3"
   ]
  },
  {
   "cell_type": "code",
   "execution_count": null,
   "metadata": {},
   "outputs": [],
   "source": []
  },
  {
   "cell_type": "code",
   "execution_count": null,
   "metadata": {},
   "outputs": [],
   "source": []
  },
  {
   "cell_type": "code",
   "execution_count": null,
   "metadata": {},
   "outputs": [],
   "source": []
  },
  {
   "cell_type": "code",
   "execution_count": null,
   "metadata": {},
   "outputs": [],
   "source": []
  },
  {
   "cell_type": "code",
   "execution_count": null,
   "metadata": {},
   "outputs": [],
   "source": []
  },
  {
   "cell_type": "code",
   "execution_count": null,
   "metadata": {},
   "outputs": [],
   "source": []
  },
  {
   "cell_type": "code",
   "execution_count": null,
   "metadata": {},
   "outputs": [],
   "source": []
  }
 ],
 "metadata": {
  "kernelspec": {
   "display_name": "Python 3",
   "language": "python",
   "name": "python3"
  },
  "language_info": {
   "codemirror_mode": {
    "name": "ipython",
    "version": 3
   },
   "file_extension": ".py",
   "mimetype": "text/x-python",
   "name": "python",
   "nbconvert_exporter": "python",
   "pygments_lexer": "ipython3",
   "version": "3.9.16"
  }
 },
 "nbformat": 4,
 "nbformat_minor": 2
}
